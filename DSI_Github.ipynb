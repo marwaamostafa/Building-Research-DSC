{
  "nbformat": 4,
  "nbformat_minor": 0,
  "metadata": {
    "colab": {
      "provenance": []
    },
    "kernelspec": {
      "name": "python3",
      "display_name": "Python 3"
    },
    "language_info": {
      "name": "python"
    }
  },
  "cells": [
    {
      "cell_type": "code",
      "execution_count": 2,
      "metadata": {
        "colab": {
          "base_uri": "https://localhost:8080/"
        },
        "id": "jWpFI1xY8Z42",
        "outputId": "68426426-d87b-4bb7-97e8-e839cee42578"
      },
      "outputs": [
        {
          "output_type": "stream",
          "name": "stdout",
          "text": [
            "200\n",
            "{\"login\":\"marwaamostafa\",\"id\":152026857,\"node_id\":\"U_kgDOCQ--6Q\",\"avatar_url\":\"https://avatars.githubusercontent.com/u/152026857?v=4\",\"gravatar_id\":\"\",\"url\":\"https://api.github.com/users/marwaamostafa\",\"html_url\":\"https://github.com/marwaamostafa\",\"followers_url\":\"https://api.github.com/users/marwaamostafa/followers\",\"following_url\":\"https://api.github.com/users/marwaamostafa/following{/other_user}\",\"gists_url\":\"https://api.github.com/users/marwaamostafa/gists{/gist_id}\",\"starred_url\":\"https://api.github.com/users/marwaamostafa/starred{/owner}{/repo}\",\"subscriptions_url\":\"https://api.github.com/users/marwaamostafa/subscriptions\",\"organizations_url\":\"https://api.github.com/users/marwaamostafa/orgs\",\"repos_url\":\"https://api.github.com/users/marwaamostafa/repos\",\"events_url\":\"https://api.github.com/users/marwaamostafa/events{/privacy}\",\"received_events_url\":\"https://api.github.com/users/marwaamostafa/received_events\",\"type\":\"User\",\"site_admin\":false,\"name\":null,\"company\":null,\"blog\":\"\",\"location\":null,\"email\":null,\"hireable\":null,\"bio\":null,\"twitter_username\":null,\"public_repos\":5,\"public_gists\":0,\"followers\":0,\"following\":0,\"created_at\":\"2023-11-25T17:59:17Z\",\"updated_at\":\"2023-12-17T05:01:19Z\"}\n",
            "{'avatar_url': 'https://avatars.githubusercontent.com/u/152026857?v=4',\n",
            " 'bio': None,\n",
            " 'blog': '',\n",
            " 'company': None,\n",
            " 'created_at': '2023-11-25T17:59:17Z',\n",
            " 'email': None,\n",
            " 'events_url': 'https://api.github.com/users/marwaamostafa/events{/privacy}',\n",
            " 'followers': 0,\n",
            " 'followers_url': 'https://api.github.com/users/marwaamostafa/followers',\n",
            " 'following': 0,\n",
            " 'following_url': 'https://api.github.com/users/marwaamostafa/following{/other_user}',\n",
            " 'gists_url': 'https://api.github.com/users/marwaamostafa/gists{/gist_id}',\n",
            " 'gravatar_id': '',\n",
            " 'hireable': None,\n",
            " 'html_url': 'https://github.com/marwaamostafa',\n",
            " 'id': 152026857,\n",
            " 'location': None,\n",
            " 'login': 'marwaamostafa',\n",
            " 'name': None,\n",
            " 'node_id': 'U_kgDOCQ--6Q',\n",
            " 'organizations_url': 'https://api.github.com/users/marwaamostafa/orgs',\n",
            " 'public_gists': 0,\n",
            " 'public_repos': 5,\n",
            " 'received_events_url': 'https://api.github.com/users/marwaamostafa/received_events',\n",
            " 'repos_url': 'https://api.github.com/users/marwaamostafa/repos',\n",
            " 'site_admin': False,\n",
            " 'starred_url': 'https://api.github.com/users/marwaamostafa/starred{/owner}{/repo}',\n",
            " 'subscriptions_url': 'https://api.github.com/users/marwaamostafa/subscriptions',\n",
            " 'twitter_username': None,\n",
            " 'type': 'User',\n",
            " 'updated_at': '2023-12-17T05:01:19Z',\n",
            " 'url': 'https://api.github.com/users/marwaamostafa'}\n"
          ]
        }
      ],
      "source": [
        "import requests\n",
        "import json\n",
        "from pprint import pprint\n",
        "\n",
        "# get secret from Colab\n",
        "from google.colab import userdata\n",
        "token = userdata.get('mytoken')\n",
        "\n",
        "# initialize request parameters\n",
        "url = 'https://api.github.com/user'\n",
        "headers = {'Authorization': 'Bearer ' + token}\n",
        "\n",
        "# send request to GitHub\n",
        "r = requests.get(url, headers=headers)\n",
        "\n",
        "# print initial responses\n",
        "print(r.status_code)\n",
        "print(r.text)\n",
        "\n",
        "r_json = json.loads(r.text)\n",
        "pprint(r_json)"
      ]
    },
    {
      "cell_type": "code",
      "source": [
        "import requests\n",
        "import json\n",
        "from pprint import pprint\n",
        "\n",
        "from google.colab import userdata\n",
        "\n",
        "\n",
        "def get_user_data() -> dict:\n",
        "token = userdata.get('mytoken')\n",
        "\n",
        "  main_api = 'https://pjfaoijeclawneoaiwjfeoiajwef.com'\n",
        "  backup_api = 'https://api.github.com'\n",
        "\n",
        "  try:\n",
        "    # get response from first API\n",
        "    response = requests.get(url=main_api + '/user',\n",
        "                            headers={'Authorization': 'Bearer ' + token})\n",
        "    print('success from first API')\n",
        "\n",
        "  except requests.exceptions.ConnectionError:\n",
        "    print('Error with 1st, trying 2nd')\n",
        "    # connection error to first API, let's try backup\n",
        "    response = requests.get(url=backup_api + '/user',\n",
        "                            headers={'Authorization': 'Bearer ' + token})\n",
        "    print('success from 2nd API')\n",
        "\n",
        "\n",
        "  # parse json\n",
        "  # response_json = json.loads(response.text)\n",
        "\n",
        "  return response.json()\n",
        "\n",
        "\n",
        "user_obj = get_user_data()\n",
        "\n",
        "pprint(user_obj)\n",
        "\n",
        "# print some values\n",
        "print('Username: ' + user_obj['login'])\n",
        "print('Name: ' + user_obj['name'])"
      ],
      "metadata": {
        "colab": {
          "base_uri": "https://localhost:8080/",
          "height": 161
        },
        "id": "mEMWtPoRMvW4",
        "outputId": "93a5f106-2707-4edd-968f-c7f5be9edb6d"
      },
      "execution_count": 5,
      "outputs": [
        {
          "output_type": "error",
          "ename": "IndentationError",
          "evalue": "expected an indented block after function definition on line 8 (<ipython-input-5-a181070c9723>, line 9)",
          "traceback": [
            "\u001b[0;36m  File \u001b[0;32m\"<ipython-input-5-a181070c9723>\"\u001b[0;36m, line \u001b[0;32m9\u001b[0m\n\u001b[0;31m    token = userdata.get('mytoken')\u001b[0m\n\u001b[0m    ^\u001b[0m\n\u001b[0;31mIndentationError\u001b[0m\u001b[0;31m:\u001b[0m expected an indented block after function definition on line 8\n"
          ]
        }
      ]
    },
    {
      "cell_type": "code",
      "source": [
        "input_from_user = '45 obj'\n",
        "\n",
        "try:\n",
        "  input_as_int = int(input_from_user)\n",
        "except ValueError:\n",
        "  print(f'Input received was \"{input_from_user}\" but we expected an int.')\n",
        "\n",
        "print(input_as_int)"
      ],
      "metadata": {
        "colab": {
          "base_uri": "https://localhost:8080/",
          "height": 286
        },
        "id": "j7VJ6NV8MxN8",
        "outputId": "f31d06e8-cc4b-4d5b-f747-d033afcc7abb"
      },
      "execution_count": null,
      "outputs": [
        {
          "output_type": "stream",
          "name": "stdout",
          "text": [
            "Input received was \"45 obj\" but we expected an int.\n"
          ]
        },
        {
          "output_type": "error",
          "ename": "NameError",
          "evalue": "ignored",
          "traceback": [
            "\u001b[0;31m---------------------------------------------------------------------------\u001b[0m",
            "\u001b[0;31mNameError\u001b[0m                                 Traceback (most recent call last)",
            "\u001b[0;32m<ipython-input-5-faf2340f3661>\u001b[0m in \u001b[0;36m<cell line: 8>\u001b[0;34m()\u001b[0m\n\u001b[1;32m      6\u001b[0m   \u001b[0mprint\u001b[0m\u001b[0;34m(\u001b[0m\u001b[0;34mf'Input received was \"{input_from_user}\" but we expected an int.'\u001b[0m\u001b[0;34m)\u001b[0m\u001b[0;34m\u001b[0m\u001b[0;34m\u001b[0m\u001b[0m\n\u001b[1;32m      7\u001b[0m \u001b[0;34m\u001b[0m\u001b[0m\n\u001b[0;32m----> 8\u001b[0;31m \u001b[0mprint\u001b[0m\u001b[0;34m(\u001b[0m\u001b[0minput_as_int\u001b[0m\u001b[0;34m)\u001b[0m\u001b[0;34m\u001b[0m\u001b[0;34m\u001b[0m\u001b[0m\n\u001b[0m",
            "\u001b[0;31mNameError\u001b[0m: name 'input_as_int' is not defined"
          ]
        }
      ]
    }
  ]
}